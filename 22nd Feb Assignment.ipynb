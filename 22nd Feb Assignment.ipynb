{
 "cells": [
  {
   "cell_type": "markdown",
   "id": "3cd19626",
   "metadata": {},
   "source": [
    "Q1. Write a python program to extract the video URL of the first five videos."
   ]
  },
  {
   "cell_type": "code",
   "execution_count": 31,
   "id": "788af8ff",
   "metadata": {},
   "outputs": [],
   "source": [
    "import requests\n",
    "from bs4 import BeautifulSoup\n",
    "\n",
    "# Send a GET request to the webpage containing the videos\n",
    "url = \"https://www.youtube.com/@PW-Foundation/videos\"  # Replace with the actual URL\n",
    "response = requests.get(url)\n",
    "\n",
    "# Parse the HTML content using BeautifulSoup\n",
    "soup = BeautifulSoup(response.content, \"html.parser\")\n",
    "\n",
    "# Find the elements containing the video URLs\n",
    "video_elements = soup.find_all(\"a\", {\"class\": \"video_link\"})  # Replace with the appropriate HTML tag and class\n",
    "\n",
    "# Extract the video URLs of the first five videos\n",
    "video_urls = []\n",
    "for video_element in video_elements[:5]:\n",
    "    video_url = video_element[\"href\"]\n",
    "    video_urls.append(video_url)\n",
    "\n",
    "# Print the video URLs\n",
    "for url in video_urls:\n",
    "    print(url)\n"
   ]
  },
  {
   "cell_type": "markdown",
   "id": "28890d03",
   "metadata": {},
   "source": [
    "Q2. Write a python program to extract the URL of the video thumbnails of the first five videos."
   ]
  },
  {
   "cell_type": "code",
   "execution_count": 32,
   "id": "1c597c2a",
   "metadata": {},
   "outputs": [],
   "source": [
    "import requests\n",
    "from bs4 import BeautifulSoup\n",
    "\n",
    "# Send a GET request to the webpage containing the videos\n",
    "url = \"https://www.youtube.com/@PW-Foundation/videos\"  # Replace with the actual URL\n",
    "response = requests.get(url)\n",
    "\n",
    "# Parse the HTML content using BeautifulSoup\n",
    "soup = BeautifulSoup(response.content, \"html.parser\")\n",
    "\n",
    "# Find the elements containing the video thumbnails\n",
    "thumbnail_elements = soup.find_all(\"img\", {\"class\": \"thumbnail-img\"})  # Replace with the appropriate HTML tag and class\n",
    "\n",
    "# Extract the URLs of the video thumbnails of the first five videos\n",
    "thumbnail_urls = []\n",
    "for thumbnail_element in thumbnail_elements[:5]:\n",
    "    thumbnail_url = thumbnail_element[\"src\"]\n",
    "    thumbnail_urls.append(thumbnail_url)\n",
    "\n",
    "# Print the URLs of the video thumbnails\n",
    "for url in thumbnail_urls:\n",
    "    print(url)\n"
   ]
  },
  {
   "cell_type": "markdown",
   "id": "2e11d3ca",
   "metadata": {},
   "source": [
    "Q3. Write a python program to extract the title of the first five videos."
   ]
  },
  {
   "cell_type": "code",
   "execution_count": 33,
   "id": "f31fe226",
   "metadata": {},
   "outputs": [],
   "source": [
    "import requests\n",
    "from bs4 import BeautifulSoup\n",
    "\n",
    "# Send a GET request to the webpage containing the videos\n",
    "url = \"https://www.youtube.com/@PW-Foundation/videos\"  # Replace with the actual URL\n",
    "response = requests.get(url)\n",
    "\n",
    "# Parse the HTML content using BeautifulSoup\n",
    "soup = BeautifulSoup(response.content, \"html.parser\")\n",
    "\n",
    "# Find the elements containing the video titles\n",
    "title_elements = soup.find_all(\"h3\", {\"class\": \"video-title\"})  # Replace with the appropriate HTML tag and class\n",
    "\n",
    "# Extract the titles of the first five videos\n",
    "video_titles = []\n",
    "for title_element in title_elements[:5]:\n",
    "    video_title = title_element.text.strip()\n",
    "    video_titles.append(video_title)\n",
    "\n",
    "# Print the titles of the first five videos\n",
    "for title in video_titles:\n",
    "    print(title)\n"
   ]
  },
  {
   "cell_type": "markdown",
   "id": "f7322fc1",
   "metadata": {},
   "source": [
    "Q4. Write a python program to extract the number of views of the first five videos."
   ]
  },
  {
   "cell_type": "code",
   "execution_count": 36,
   "id": "41d4fb50",
   "metadata": {},
   "outputs": [],
   "source": [
    "import requests\n",
    "from bs4 import BeautifulSoup\n",
    "\n",
    "# Send a GET request to the webpage containing the videos\n",
    "url = \"https://www.youtube.com/@PW-Foundation/videos\"  # Replace with the actual URL\n",
    "response = requests.get(url)\n",
    "\n",
    "# Parse the HTML content using BeautifulSoup\n",
    "soup = BeautifulSoup(response.content, \"html.parser\")\n",
    "\n",
    "# Find the elements containing the number of views\n",
    "view_elements = soup.find_all(\"span\", {\"class\": \"view-count\"})  # Replace with the appropriate HTML tag and class\n",
    "\n",
    "# Extract the number of views of the first five videos\n",
    "view_counts = []\n",
    "for view_element in view_elements[:5]:\n",
    "    view_count = view_element.text.strip()\n",
    "    view_counts.append(view_count)\n",
    "\n",
    "# Print the number of views of the first five videos\n",
    "for count in view_counts:\n",
    "    print(count)\n"
   ]
  },
  {
   "cell_type": "markdown",
   "id": "42d9d4e7",
   "metadata": {},
   "source": [
    "Q5. Write a python program to extract the time of posting of video for the first five videos."
   ]
  },
  {
   "cell_type": "code",
   "execution_count": null,
   "id": "a046f5f8",
   "metadata": {},
   "outputs": [],
   "source": [
    "import requests\n",
    "from bs4 import BeautifulSoup\n",
    "\n",
    "# Send a GET request to the webpage containing the videos\n",
    "url = \"https://www.youtube.com/@PW-Foundation/videos\"  # Replace with the actual URL\n",
    "response = requests.get(url)\n",
    "\n",
    "# Parse the HTML content using BeautifulSoup\n",
    "soup = BeautifulSoup(response.content, \"html.parser\")\n",
    "\n",
    "# Find the elements containing the time of posting\n",
    "time_elements = soup.find_all(\"span\", {\"class\": \"post-time\"})  # Replace with the appropriate HTML tag and class\n",
    "\n",
    "# Extract the time of posting for the first five videos\n",
    "post_times = []\n",
    "for time_element in time_elements[:5]:\n",
    "    post_time = time_element.text.strip()\n",
    "    post_times.append(post_time)\n",
    "\n",
    "# Print the time of posting for the first five videos\n",
    "for time in post_times:\n",
    "    print(time)\n"
   ]
  },
  {
   "cell_type": "code",
   "execution_count": null,
   "id": "7aef4546",
   "metadata": {},
   "outputs": [],
   "source": []
  },
  {
   "cell_type": "code",
   "execution_count": null,
   "id": "a86fcaca",
   "metadata": {},
   "outputs": [],
   "source": []
  },
  {
   "cell_type": "code",
   "execution_count": null,
   "id": "0612ce4f",
   "metadata": {},
   "outputs": [],
   "source": []
  },
  {
   "cell_type": "code",
   "execution_count": null,
   "id": "3cacfd09",
   "metadata": {},
   "outputs": [],
   "source": []
  },
  {
   "cell_type": "code",
   "execution_count": null,
   "id": "44c3efee",
   "metadata": {},
   "outputs": [],
   "source": []
  },
  {
   "cell_type": "code",
   "execution_count": null,
   "id": "c08de9cf",
   "metadata": {},
   "outputs": [],
   "source": []
  },
  {
   "cell_type": "code",
   "execution_count": null,
   "id": "c4124b16",
   "metadata": {},
   "outputs": [],
   "source": []
  },
  {
   "cell_type": "code",
   "execution_count": null,
   "id": "e7cbf695",
   "metadata": {},
   "outputs": [],
   "source": []
  },
  {
   "cell_type": "code",
   "execution_count": null,
   "id": "168ea0e3",
   "metadata": {},
   "outputs": [],
   "source": []
  },
  {
   "cell_type": "code",
   "execution_count": null,
   "id": "a114212f",
   "metadata": {},
   "outputs": [],
   "source": []
  },
  {
   "cell_type": "code",
   "execution_count": null,
   "id": "94018afe",
   "metadata": {},
   "outputs": [],
   "source": []
  }
 ],
 "metadata": {
  "kernelspec": {
   "display_name": "Python 3 (ipykernel)",
   "language": "python",
   "name": "python3"
  },
  "language_info": {
   "codemirror_mode": {
    "name": "ipython",
    "version": 3
   },
   "file_extension": ".py",
   "mimetype": "text/x-python",
   "name": "python",
   "nbconvert_exporter": "python",
   "pygments_lexer": "ipython3",
   "version": "3.9.13"
  }
 },
 "nbformat": 4,
 "nbformat_minor": 5
}
